{
 "cells": [
  {
   "cell_type": "code",
   "execution_count": 14,
   "metadata": {
    "collapsed": false
   },
   "outputs": [],
   "source": [
    "import requests\n",
    "import numpy\n",
    "import time\n",
    "import re\n",
    "from bs4 import BeautifulSoup\n",
    "import contextlib"
   ]
  },
  {
   "cell_type": "code",
   "execution_count": 15,
   "metadata": {
    "collapsed": false
   },
   "outputs": [
    {
     "name": "stdout",
     "output_type": "stream",
     "text": [
      "missing: 941\n",
      "duration: 03:26:32\n"
     ]
    }
   ],
   "source": [
    "### 電影id區間 \n",
    "miss = 0\n",
    "start_id = 1\n",
    "end_id = 6127\n",
    "tStart = time.time()\n",
    "\n",
    "with contextlib.nested(open('data/Yahoo/miss.txt', 'w'), \n",
    "                       open('data/Yahoo/movie.txt', 'w'),\n",
    "                       open('data/Yahoo/director.txt', 'w'),\n",
    "                       open('data/Yahoo/performer.txt', 'w'),\n",
    "                       open('data/Yahoo/ymvmodule.txt', 'w')) as (f0, f1, f2, f3, f4):   \n",
    " \n",
    "    for m_id in range(start_id, end_id + 1):\n",
    "        \n",
    "        try:\n",
    "            time.sleep(abs(numpy.random.randn()))\n",
    "            url = 'https://tw.movies.yahoo.com/movieinfo_main.html/id=' + str(m_id)\n",
    "            res = requests.get(url, verify=True)\n",
    "            res.encoding = 'utf-8'\n",
    "        \n",
    "            soup = BeautifulSoup(res.text)\n",
    "            item = soup.find('div', {'class':'item clearfix'})\n",
    "            \n",
    "            ### f0 ### \n",
    "            # 無資料頁面\n",
    "            if len(item) == 13:\n",
    "                miss = miss + 1\n",
    "                f0.write(url)\n",
    "                f0.write(\"\\n\")\n",
    "                continue\n",
    "            \n",
    "            ### f1 ###\n",
    "            #print item.find('h4').text.encode('utf-8') #中文片名 \n",
    "            #print item.find('h5').text.encode('utf-8') #英文片名\n",
    "    \n",
    "            dta1 = []\n",
    "            for p in item.findAll('p'):\n",
    "                dta1.append(p.find('span', {'class':'dta'}).text)\n",
    "    \n",
    "            detail = []\n",
    "            for d in \",\".join(dta1).split(\",\")[0:3]:\n",
    "                detail.append(d)\n",
    "        \n",
    "            #print detail[0].encode('utf-8') #上映日期\n",
    "            #print detail[1].encode('utf-8').replace('、',',') #類型\n",
    "            #print detail[2].encode('utf-8') #片長\n",
    "    \n",
    "            vote = soup.find('div', {'class':'vote clearfix'})\n",
    "            vsum = soup.find('div', {'class':'sum'})\n",
    "    \n",
    "            #print re.sub('%','',vote.find(\"strong\").text.encode('utf-8')) #想看人數(%)\n",
    "            #print vote.find(\"q\").text.encode('utf-8') #投票人數\n",
    "            #print vsum.find(\"em\").text.encode('utf-8') #總評分\n",
    "            #print vsum.find(\"q\").text.encode('utf-8') #評分人數\n",
    "    \n",
    "            f1.write(str(m_id)+\";\"+item.find('h4').text.encode('utf-8')+\";\"+item.find('h5').text.encode('utf-8')+\";\"+detail[0].encode('utf-8')+\";\"+detail[1].encode('utf-8').replace('、',',')+\";\"+detail[2].encode('utf-8')+ \";\" + re.sub('%','',vote.find(\"strong\").text.encode('utf-8')) + \";\" + vote.find(\"q\").text.encode('utf-8') + \";\" + vsum.find(\"em\").text.encode('utf-8') + \";\" + vsum.find(\"q\").text.encode('utf-8'))\n",
    "            f1.write(\"\\n\")\n",
    "            \n",
    "            ### f2 ###\n",
    "            dta2 = []\n",
    "            for p2 in item.findAll('p'):\n",
    "                dta2.append(p2.find('span', {'class':'dta'}))\n",
    "        \n",
    "            director1 = []\n",
    "            for dta22 in dta2[3].findAll('a'):\n",
    "                director1.append(re.sub('(\\w+)|\\(|\\)|\\.|\\-', '', dta22['href'].replace('/artist_filmography.html?name=','').strip()))\n",
    "            \n",
    "            #print ','.join(director1) #中文導演名稱\n",
    "    \n",
    "            dta21 = []\n",
    "            for p in item.findAll('p'):\n",
    "                dta21.append(p.find('span', {'class':'dta'}).text)\n",
    "    \n",
    "            director2 = []\n",
    "            ### 過濾中文 & 特殊符號 & 數字\n",
    "            for i in \",\".join(dta21).split(\",\")[3:-2]:\n",
    "                for j in re.sub(r'[\\x80-\\xff]{3,}|(\\d+)', '', str(i.encode('utf-8'))).split(\")(\"):\n",
    "                    director2.append(re.sub('\\\\n', ',', re.sub('\\(|\\)|', '', j)).strip())\n",
    "    \n",
    "            #print director2[0] #英文導演名稱\n",
    "            \n",
    "            f2.write(str(m_id) + \";\" + ','.join(director1).encode('utf-8') + \";\" + director2[0])\n",
    "            f2.write(\"\\n\")\n",
    "            \n",
    "            ### f3 ###\n",
    "            dta3 = []\n",
    "            for p3 in item.findAll('p'):\n",
    "                dta3.append(p3.find('span', {'class':'dta'}))\n",
    "\n",
    "            performer1 = []\n",
    "            for dta3 in dta2[4].findAll('a'):\n",
    "                performer1.append(re.sub('(\\w+)|\\(|\\)|\\.', '', dta3['href'].replace('/artist_filmography.html?name=','').replace('\\r\\n','')))\n",
    "\n",
    "            #print ','.join(performer1) #中文演員名稱\n",
    "    \n",
    "            dta21 = []\n",
    "            for p in item.findAll('p'):\n",
    "                dta21.append(p.find('span', {'class':'dta'}).text)\n",
    "    \n",
    "            performer2 = []\n",
    "            ### 過濾中文 & 特殊符號 & 數字\n",
    "            #for i in \",\".join(dta21).split(\",\")[3:-2]:\n",
    "            #    for j in re.sub(r'[\\x80-\\xff]{3,}|(\\d+)', '', str(i.encode('utf-8'))).split(\")(\"):\n",
    "            #        performer2.append(re.sub('\\\\n', ',', re.sub('\\(|\\)|', '', j)))\n",
    "                    \n",
    "            ### 找出()內的英文演員名字\n",
    "            for i in \",\".join(dta21).split(\",\")[4:-2]:\n",
    "                text =  re.sub(r'[\\x80-\\xff]{3,}|(\\d+)', '', str(i.encode('utf-8')))\n",
    "                #print text\n",
    "                m1 = re.split(r'\\(\\)' ,text) \n",
    "                for m2 in m1:\n",
    "                    for m3 in re.sub('\\)(\\w+)', '', m2).split(\"(\"):\n",
    "                        #print m3.replace(')','').replace(\";\",\"\")\n",
    "                        performer2.append(re.sub('\\)|;','', m3).replace('\\r\\n',''))\n",
    "                        \n",
    "            #print ','.join(performer2[1:]) #英文演員名稱\n",
    "            \n",
    "            f3.write(str(m_id) + \";\" + ','.join(performer1).encode('utf-8') + \";\" + ','.join(performer2[:]))\n",
    "            f3.write(\"\\n\")\n",
    "            \n",
    "            ### f4 ###\n",
    "            try:\n",
    "                ymvs = soup.find('div', {'id':'ymvs'}).find('div', {'class':'text full'}).find('p')\n",
    "                f4.write(str(m_id)+\";\"+ymvs.text.encode('utf-8').replace('《','(').replace('》',')'))\n",
    "                f4.write(\"\\n\")\n",
    "                #print ymvs.text #劇情簡介\n",
    "                \n",
    "            except BaseException, e:\n",
    "                ymvs = soup.find('div', {'id':'ymvs'}).find('div', {'class':'text show'}).find('p')\n",
    "                f4.write(str(m_id)+\";\"+ymvs.text.encode('utf-8').replace('《','(').replace('》',')'))\n",
    "                f4.write(\"\\n\")\n",
    "            \n",
    "        except BaseException, e:\n",
    "            print e\n",
    "\n",
    "print \"missing: \" + str(miss)\n",
    "print \"duration: \" + time.strftime(\"%H:%M:%S\", time.gmtime(time.time() - tStart))\n"
   ]
  },
  {
   "cell_type": "markdown",
   "metadata": {},
   "source": [
    "#導演Director"
   ]
  },
  {
   "cell_type": "code",
   "execution_count": 3,
   "metadata": {
    "collapsed": false
   },
   "outputs": [
    {
     "name": "stdout",
     "output_type": "stream",
     "text": [
      "藤田容介（ ）\n",
      "FUJITA Yosuke\n"
     ]
    }
   ],
   "source": [
    "m_id = 5501\n",
    "\n",
    "url = 'https://tw.movies.yahoo.com/movieinfo_main.html/id=' + str(m_id)\n",
    "res = requests.get(url, verify=True)\n",
    "res.encoding = 'utf-8'\n",
    "soup = BeautifulSoup(res.text)\n",
    "\n",
    "with open('data/Yahoo/director_test.txt', 'w') as f2:\n",
    "    \n",
    "    item = soup.find('div', {'class':'item clearfix'})\n",
    "    \n",
    "    dta2 = []\n",
    "    for p2 in item.findAll('p'):\n",
    "        dta2.append(p2.find('span', {'class':'dta'}))\n",
    "        \n",
    "    director1 = []\n",
    "    for dta22 in dta2[3].findAll('a'):\n",
    "        director1.append(re.sub('(\\w+)|\\(|\\)|\\.|\\-', '', dta22['href'].replace('/artist_filmography.html?name=','').strip()))\n",
    "\n",
    "    print re.sub('(\\w+)|\\(|\\)|\\.', '', ','.join(director1)).strip() #中文導演名稱\n",
    "    \n",
    "    dta21 = []\n",
    "    for p in item.findAll('p'):\n",
    "        dta21.append(p.find('span', {'class':'dta'}).text)\n",
    "    \n",
    "    director2 = []\n",
    "    ### 過濾中文 & 特殊符號 & 數字\n",
    "    for i in \",\".join(dta21).split(\",\")[3:-2]:\n",
    "        for j in re.sub(r'[\\x80-\\xff]{3,}|(\\d+)', '', str(i.encode('utf-8'))).split(\")(\"):\n",
    "            director2.append(re.sub('\\\\n', ',', re.sub('\\(|\\)|', '', j)).strip())\n",
    "    \n",
    "    print director2[0] #英文導演名稱\n",
    "    \n",
    "    f2.write(str(m_id) + \";\" + ','.join(director1).encode('utf-8') + \";\" + director2[0])\n",
    "    f2.write(\"\\n\")"
   ]
  },
  {
   "cell_type": "markdown",
   "metadata": {},
   "source": [
    "#演員Performer"
   ]
  },
  {
   "cell_type": "code",
   "execution_count": 10,
   "metadata": {
    "collapsed": false
   },
   "outputs": [
    {
     "name": "stdout",
     "output_type": "stream",
     "text": [
      "大島美幸（ ）,荒川良良（ ）,水川麻美（ ）\n",
      "OSHIMA MiyukiARAKAWA YoshiyoshiMIZUKAWA Asami\n"
     ]
    }
   ],
   "source": [
    "m_id = 5501\n",
    "\n",
    "url = 'https://tw.movies.yahoo.com/movieinfo_main.html/id=' + str(m_id)\n",
    "res = requests.get(url, verify=True)\n",
    "res.encoding = 'utf-8'\n",
    "soup = BeautifulSoup(res.text)\n",
    "\n",
    "with open('data/Yahoo/performer_test.txt', 'w') as f3:\n",
    "    \n",
    "    item = soup.find('div', {'class':'item clearfix'})\n",
    "    \n",
    "    ## f3 ###\n",
    "    dta3 = []\n",
    "    for p3 in item.findAll('p'):\n",
    "        dta3.append(p3.find('span', {'class':'dta'}))\n",
    "\n",
    "    performer1 = []\n",
    "    for dta3 in dta2[4].findAll('a'):\n",
    "        performer1.append(re.sub('(\\w+)|\\(|\\)|\\.', '', dta3['href'].replace('/artist_filmography.html?name=','').replace('\\r\\n','')))\n",
    "\n",
    "    print re.sub('(\\w+)|\\(|\\)', '' , ','.join(performer1).strip())#中文演員名稱\n",
    "    \n",
    "    dta21 = []\n",
    "    for p in item.findAll('p'):\n",
    "        dta21.append(p.find('span', {'class':'dta'}).text)\n",
    "    \n",
    "    performer2 = []\n",
    "    ### 過濾中文 & 特殊符號 & 數字\n",
    "    #for i in \",\".join(dta21).split(\",\")[3:-2]:\n",
    "    #    for j in re.sub(r'[\\x80-\\xff]{3,}|(\\d+)', '', str(i.encode('utf-8'))).split(\")(\"):\n",
    "    #        performer2.append(re.sub('\\\\n', ',', re.sub('\\(|\\)|', '', j)))\n",
    "                    \n",
    "    ### 找出()內的英文演員名字\n",
    "    for i in \",\".join(dta21).split(\",\")[4:-2]:\n",
    "        text =  re.sub(r'[\\x80-\\xff]{3,}|(\\d+)', '', str(i.encode('utf-8')))\n",
    "        #print text\n",
    "        m1 = re.split(r'\\(\\)' ,text) \n",
    "        for m2 in m1:\n",
    "            for m3 in re.sub('\\)(\\w+)', '', m2).split(\"(\"):\n",
    "                #print m3.replace(')','').replace(\";\",\"\")\n",
    "                performer2.append(re.sub('\\)|;','', m3).replace('\\r\\n','').strip())\n",
    "                \n",
    "    print ','.join(performer2[:]).strip() #英文演員名稱\n",
    "            \n",
    "    f3.write(str(m_id) + \";\" + ','.join(performer1).encode('utf-8') + \";\" + ','.join(performer2[:]))\n",
    "    f3.write(\"\\n\")"
   ]
  },
  {
   "cell_type": "markdown",
   "metadata": {},
   "source": [
    "#電影資料 & 劇情簡介"
   ]
  },
  {
   "cell_type": "code",
   "execution_count": 37,
   "metadata": {
    "collapsed": false
   },
   "outputs": [
    {
     "name": "stdout",
     "output_type": "stream",
     "text": [
      "由環球影業以及Illumination娛樂公司出品的《小小兵》故事起源於盤古開天時期，剛開始只是一個黃色的有機體，隨著時間漸漸演化成小小兵團，他們的存在目的就是要服侍當代最兇惡的主人，然而從T. Rex 恐龍，埃及法老王，拿破崙甚至是德古拉，小小兵總是不停的失敗了-到最後小小兵們發現已經沒有可以服侍的主人，從此開始鬱鬱寡歡，甚至逐漸凋零。這時其中的一隻小小兵—凱文他有個偉大的計畫，就是帶著他的麻吉—大胃王史都華還有膽小的蘿蔔，挺身而出踏上尋找新主人的冒險旅程…《小小兵》電影配樂精心搭配60年代傳唱至今的暢銷金曲，並且由Illumination娛樂公司的克里斯梅勒丹德利、珍娜海莉製作，皮耶考芬和凱爾巴爾達執導，布萊恩林區編劇和克里斯雷納德擔任執行製片。\n"
     ]
    }
   ],
   "source": [
    "m_id = 5515\n",
    "url = 'https://tw.movies.yahoo.com/movieinfo_main.html/id=' + str(m_id)\n",
    "res = requests.get(url, verify=True)\n",
    "res.encoding = 'utf-8'\n",
    "soup = BeautifulSoup(res.text)\n",
    "\n",
    "with open('data/Yahoo/movie_test.txt', 'w') as f1:\n",
    "    \n",
    "    item = soup.find('div', {'class':'item clearfix'})\n",
    "    \n",
    "    #print item.find('h4').text.encode('utf-8') #中文片名 \n",
    "    #print item.find('h5').text.encode('utf-8') #英文片名\n",
    "    \n",
    "    dta1 = []\n",
    "    for p in item.findAll('p'):\n",
    "        dta1.append(p.find('span', {'class':'dta'}).text)\n",
    "    \n",
    "    detail = []\n",
    "    for d in \",\".join(dta1).split(\",\")[0:3]:\n",
    "        detail.append(d)\n",
    "        \n",
    "    #print detail[0].encode('utf-8') #上映日期\n",
    "    #print detail[1].encode('utf-8').replace('、',',') #類型\n",
    "    #print detail[2].encode('utf-8') #片長\n",
    "    \n",
    "    vote = soup.find('div', {'class':'vote clearfix'})\n",
    "    vsum = soup.find('div', {'class':'sum'})\n",
    "    \n",
    "    #print re.sub('%','',vote.find(\"strong\").text.encode('utf-8')) #想看人數(%)\n",
    "    #print vote.find(\"q\").text.encode('utf-8') #投票人數\n",
    "    #print vsum.find(\"em\").text.encode('utf-8') #總評分\n",
    "    #print vsum.find(\"q\").text.encode('utf-8') #評分人數\n",
    "    \n",
    "    f1.write(str(m_id)+\";\"+item.find('h4').text.encode('utf-8')+\";\"+item.find('h5').text.encode('utf-8')+\";\"+detail[0].encode('utf-8')+\";\"+detail[1].encode('utf-8').replace('、',',')+\";\"+detail[2].encode('utf-8')+ \";\" + re.sub('%','',vote.find(\"strong\").text.encode('utf-8')) + \";\" + vote.find(\"q\").text.encode('utf-8') + \";\" + vsum.find(\"em\").text.encode('utf-8') + \";\" + vsum.find(\"q\").text.encode('utf-8'))\n",
    "\n",
    "with open('data/Yahoo/ymvmodule_test.txt', 'w') as f4:\n",
    "    try:\n",
    "        ymvs = soup.find('div', {'id':'ymvs'}).find('div', {'class':'text full'}).find('p')\n",
    "        f4.write(str(m_id)+\";\"+ymvs.text.encode('utf-8').replace('《','(').replace('》',')').strip())\n",
    "        print (ymvs.text) #劇情簡介\n",
    "        \n",
    "    except BaseException, e:\n",
    "        ymvs = soup.find('div', {'id':'ymvs'}).find('div', {'class':'text show'}).find('p')\n",
    "        f4.write(str(m_id)+\";\"+ymvs.text.encode('utf-8').replace('《','(').replace('》',')').replace('\\r\\n',''))\n",
    "    "
   ]
  },
  {
   "cell_type": "markdown",
   "metadata": {},
   "source": [
    "#舊版程式"
   ]
  },
  {
   "cell_type": "code",
   "execution_count": 4,
   "metadata": {
    "collapsed": false
   },
   "outputs": [
    {
     "name": "stdout",
     "output_type": "stream",
     "text": [
      "missing:0\n"
     ]
    }
   ],
   "source": [
    "f0 = open(\"./data/Yahoo/miss.txt\", \"w\")\n",
    "f1 = open(\"./data/Yahoo/movie.txt\", \"w\")\n",
    "f2 = open(\"./data/Yahoo/director.txt\", \"w\")\n",
    "f3 = open(\"./data/Yahoo/performer.txt\", \"w\")\n",
    "\n",
    "### 電影id區間 \n",
    "miss = 0\n",
    "start_id = 1\n",
    "end_id = 6044\n",
    "\n",
    "\n",
    "for m_id in range(start_id, end_id + 1):\n",
    "    #time.sleep(abs(numpy.random.randn()))\n",
    "    try:\n",
    "        url = 'https://tw.movies.yahoo.com/movieinfo_main.html/id=' + str(m_id)\n",
    "    \n",
    "        res = requests.get(url)\n",
    "        res.encoding = 'utf-8'\n",
    "        soup = BeautifulSoup(res.text)\n",
    "        \n",
    "        item = soup.find('div',{'class':'item clearfix'})\n",
    "        vote = soup.find('div', {'class':'vote clearfix'})\n",
    "        vsum = soup.find('div', {'class':'sum'})\n",
    "        \n",
    "        ### 跳過無資料頁面\n",
    "        if len(item) == 13:\n",
    "            miss = miss + 1\n",
    "            f0.write(url)\n",
    "            f0.write(\"\\n\")\n",
    "            continue\n",
    "        \n",
    "        dta = []\n",
    "        for p in item.findAll('p'):\n",
    "            dta.append(p.find('span', {'class':'dta'}).text)\n",
    "            \n",
    "        ### 上映日期 & 類型 & 片長\n",
    "        detail = []\n",
    "        for d in \",\".join(dta).split(\",\")[0:3]:\n",
    "            detail.append(()\n",
    "        \n",
    "        name = []\n",
    "        ### 演員過濾中文 & 特殊符號 & 數字\n",
    "        for i in \",\".join(dta).split(\",\")[3:-2]:\n",
    "            for j in re.sub(r'[\\x80-\\xff]{3,}|(\\d+)', '', str(i.encode('utf-8'))).split(\")(\"):\n",
    "                name.append(re.sub('\\\\n', ',', re.sub('\\(|\\)|', '', j)))\n",
    "                #print re.sub('\\(|\\)', '', j)\n",
    "        #print str(m_id) + \";\" + name[0]\n",
    "        #print str(m_id)  + \";\" + ','.join(name[1:])                  \n",
    "        #print item.find('h4').text.encode('utf-8') + \",\" + item.find('h5').text.encode('utf-8') + \",\" + ','.join(dta).encode('utf-8')\n",
    "        #f1.write(item.find('h4').text.encode('utf-8') + \";\" + item.find('h5').text.encode('utf-8') + \";\" + ','.join(dta).encode('utf-8') + \";\" + vote.find(\"strong\").text.encode('utf-8') + \";\" + vote.find(\"q\").text.encode('utf-8') + \";\" + vsum.find(\"em\").text.encode('utf-8') + \";\" + vsum.find(\"q\").text.encode('utf-8'))\n",
    "        f1.write(str(m_id) + \";\" + item.find('h4').text.encode('utf-8') + \";\" + item.find('h5').text.encode('utf-8') + \";\" + vote.find(\"strong\").text.encode('utf-8') + \";\" + vote.find(\"q\").text.encode('utf-8') + \";\" + vsum.find(\"em\").text.encode('utf-8') + \";\" + vsum.find(\"q\").text.encode('utf-8'))\n",
    "        f1.write(\"\\n\")\n",
    "        f2.write(str(m_id) + \";\" + name[0])\n",
    "        f2.write(\"\\n\")\n",
    "        f3.write(str(m_id)  + \";\" + ','.join(name[1:]))\n",
    "        f3.write(\"\\n\")\n",
    "        \n",
    "    except BaseException, e:\n",
    "        print e\n",
    "\n",
    "print \"missing:\" + str(miss)\n",
    "f0.close()\n",
    "f1.close()\n",
    "f2.close()\n",
    "f3.close()"
   ]
  },
  {
   "cell_type": "markdown",
   "metadata": {},
   "source": [
    "#空白頁面"
   ]
  },
  {
   "cell_type": "code",
   "execution_count": 8,
   "metadata": {
    "collapsed": false
   },
   "outputs": [
    {
     "name": "stdout",
     "output_type": "stream",
     "text": [
      "13\n"
     ]
    }
   ],
   "source": [
    "url = 'https://tw.movies.yahoo.com/movieinfo_main.html/id=9'\n",
    "    \n",
    "res = requests.get(url)\n",
    "res.encoding = 'utf-8'\n",
    "soup = BeautifulSoup(res.text)\n",
    "item = soup.find('div',{'class':'item clearfix'})\n",
    "print len(item)"
   ]
  },
  {
   "cell_type": "markdown",
   "metadata": {},
   "source": [
    "#電影評分"
   ]
  },
  {
   "cell_type": "code",
   "execution_count": 27,
   "metadata": {
    "collapsed": false
   },
   "outputs": [
    {
     "name": "stdout",
     "output_type": "stream",
     "text": [
      "98%\n",
      "909\n",
      "4.3\n",
      "871\n"
     ]
    }
   ],
   "source": [
    "### 復仇者聯盟2：奧創紀元\n",
    "url = 'https://tw.movies.yahoo.com/movieinfo_main.html/id=5499'\n",
    "    \n",
    "res = requests.get(url)\n",
    "res.encoding = 'utf-8'\n",
    "soup = BeautifulSoup(res.text)\n",
    "\n",
    "vote = soup.find('div', {'class':'vote clearfix'})\n",
    "print vote.find(\"strong\").text\n",
    "print vote.find(\"q\").text\n",
    "\n",
    "vsum = soup.find('div', {'class':'sum'})\n",
    "print vsum.find(\"em\").text\n",
    "print vsum.find(\"q\").text"
   ]
  },
  {
   "cell_type": "markdown",
   "metadata": {},
   "source": [
    "#其他測試"
   ]
  },
  {
   "cell_type": "code",
   "execution_count": 183,
   "metadata": {
    "collapsed": false
   },
   "outputs": [
    {
     "name": "stdout",
     "output_type": "stream",
     "text": [
      "/artist_filmography.html?name=張藝謀'\n"
     ]
    }
   ],
   "source": [
    "### 中文演員名稱\n",
    "url = 'https://tw.movies.yahoo.com/movieinfo_main.html/id=2000'    \n",
    "res = requests.get(url)\n",
    "\n",
    "m = re.search('(\\/artist\\_filmography\\.html\\?name\\=.*\\')', res.text)\n",
    "print m.group()"
   ]
  },
  {
   "cell_type": "code",
   "execution_count": 33,
   "metadata": {
    "collapsed": false
   },
   "outputs": [
    {
     "name": "stdout",
     "output_type": "stream",
     "text": [
      "2013-12-06,劇情,1時34分,彼德藍德斯曼(Peter Landesman),《幸運符》柴克艾弗隆 (Zac Efron)、《神秘河流》瑪西雅蓋哈登 (Marcia Gay Harden)、《世界末日》比利鮑伯松頓 (Billy Bob Thornton)、《派特的幸福劇本》賈姬維佛 (Jacki Weaver)、《醉後大丈夫2》保羅賈麥提(Paul Giamatti)、《鬼霧》湯姆威林(Tom Welling)、《鋼鐵人3》詹姆斯巴吉戴爾 (James Badge Dale)、《林肯》傑奇厄爾海利 (Jackie Earl Haley)、《金剛》柯林漢克斯( Colin Hanks)、《真愛零距離》朗李文斯頓(Ron Livingston),CatchPlay,http://www.catchplay.com/parklandhttps://www.facebook.com/catchplay\n",
      "[' Zac Efron Marcia Gay Harden Billy Bob Thornton Jacki Weaver2Paul Giamatti', 'Tom Welling3 James Badge Dale Jackie Earl Haley', ' Colin Hanks', 'Ron Livingston']\n",
      " Zac Efron Marcia Gay Harden Billy Bob Thornton Jacki Weaver2Paul Giamatti,Tom Welling3 James Badge Dale Jackie Earl Haley, Colin Hanks,Ron Livingston\n",
      "彼德藍德斯曼 \n",
      "《幸運符》柴克艾弗隆  、《神秘河流》瑪西雅蓋哈登   、《世界末日》比利鮑伯松頓   、《派特的幸福劇本》賈姬維佛  、《醉後大丈夫》保羅賈麥提 、《鬼霧》湯姆威林 、《鋼鐵人》詹姆斯巴吉戴爾   、《林肯》傑奇厄爾海利   、《金剛》柯林漢克斯  、《真愛零距離》朗李文斯頓 \n",
      "彼德藍德斯曼(Peter Landesman)\n",
      "�幸運符\n"
     ]
    }
   ],
   "source": [
    "### 導演&演員名稱\n",
    "url = 'https://tw.movies.yahoo.com/movieinfo_main.html/id=4928'    \n",
    "res = requests.get(url)\n",
    "res.encoding = 'utf-8'\n",
    "soup = BeautifulSoup(res.text)\n",
    "item = soup.find('div',{'class':'item clearfix'})\n",
    "\n",
    "dta = []\n",
    "for p in item.findAll('p'):\n",
    "    #print p.text\n",
    "    dta.append(p.find('span', {'class':'dta'}).text)\n",
    "print \",\".join(dta)\n",
    "\n",
    "name = []\n",
    "### 過濾中文 & 特殊符號\n",
    "for i in \",\".join(dta).split(\",\")[3:-2]:\n",
    "    for j in re.sub(r'[\\x80-\\xff]{3,}', '', str(i.encode('utf-8'))).split(\")(\"):\n",
    "        name.append(re.sub('\\(|\\)', '', j))\n",
    "        #print re.sub('\\(|\\)', '', j)\n",
    "print name[1:]\n",
    "print ','.join(name[1:])\n",
    "        \n",
    "### 過濾英文\n",
    "for i in \",\".join(dta).split(\",\")[3:-2]:\n",
    "    print re.sub(r'(\\w+)|\\(|\\)', '', str(i.encode('utf-8')))\n",
    "\n",
    "### 過濾電影名稱 (TBD)\n",
    "for i in \",\".join(dta).split(\",\")[3:-2]:\n",
    "    m = re.search(r'([^【]+)', str(i.encode('utf-8')))\n",
    "    print m.group(0)"
   ]
  },
  {
   "cell_type": "code",
   "execution_count": 322,
   "metadata": {
    "collapsed": false
   },
   "outputs": [
    {
     "name": "stdout",
     "output_type": "stream",
     "text": [
      "【限制級戰警】羅伯柯恩(Rob Cohen);保羅沃克(Paul Walker)、【限制級戰警】馮迪索(Vin Diesel)、【反恐特警組】蜜雪兒羅卓奎茲(Michelle Rodriguez)、裘丹娜布魯斯特(Jordana Brewster)、查德林伯(Chad Lindberg)\n",
      "Rob Cohen;Paul Walker\n",
      "Vin Diesel\n",
      "Michelle Rodriguez\n",
      "Jordana Brewster\n",
      "Chad Lindberg\n"
     ]
    }
   ],
   "source": [
    "import re\n",
    "cleanCom1 = r'\\\"()\"'\n",
    "text = \"【限制級戰警】羅伯柯恩(Rob Cohen);保羅沃克(Paul Walker)、【限制級戰警】馮迪索(Vin Diesel)、【反恐特警組】蜜雪兒羅卓奎茲(Michelle Rodriguez)、裘丹娜布魯斯特(Jordana Brewster)、查德林伯(Chad Lindberg)\"\n",
    "print text\n",
    "text = re.sub(r'[\\x80-\\xff]{3,}', '', text) #清除所有中文字 & 特殊符號\n",
    "for i in text.split(\")(\"):\n",
    "    print re.sub('\\(|\\)', '', i)"
   ]
  },
  {
   "cell_type": "code",
   "execution_count": 343,
   "metadata": {
    "collapsed": false
   },
   "outputs": [
    {
     "name": "stdout",
     "output_type": "stream",
     "text": [
      "【永不妥協】茱莉亞羅勃茲(Julia Roberts)、【芝加哥】凱薩琳麗塔瓊斯(Catherine Zeta-Jones)、【致命ID】約翰庫薩克(John Cusack)、比利克里斯多(Billy Crystal)\n",
      "(Julia Roberts)(Catherine Zeta-Jones)ID(John Cusack)(Billy Crystal)\n",
      "\n",
      "Julia Roberts\n",
      "Catherine Zeta-Jones\n",
      "John Cusack\n",
      "Billy Crystal\n"
     ]
    }
   ],
   "source": [
    "import re\n",
    "cleanCom1 = r'\\\"()\"'\n",
    "\n",
    "text = \"【永不妥協】茱莉亞羅勃茲(Julia Roberts)、【芝加哥】凱薩琳麗塔瓊斯(Catherine Zeta-Jones)、【致命ID】約翰庫薩克(John Cusack)、比利克里斯多(Billy Crystal)\"\n",
    "#text = \"【限制級戰警】羅伯柯恩(Rob Cohen);保羅沃克(Paul Walker)、【限制級戰警】馮迪索(Vin Diesel)、【反恐特警組】蜜雪兒羅卓奎茲(Michelle Rodriguez)、裘丹娜布魯斯特(Jordana Brewster)、查德林伯(Chad Lindberg)\"\n",
    "\n",
    "print text\n",
    "\n",
    "text = re.sub(r'[\\x80-\\xff]{3,}', '', text)\n",
    "print text\n",
    "\n",
    "m1 = re.split(r'\\(\\)' ,text) #找出()內的英文演員名字\n",
    "for m2 in m1:\n",
    "    for m3 in re.sub('\\)(\\w+)', '', m2).split(\"(\"):\n",
    "        print m3.replace(')','').replace(\";\",\"\")"
   ]
  },
  {
   "cell_type": "code",
   "execution_count": 306,
   "metadata": {
    "collapsed": false
   },
   "outputs": [
    {
     "data": {
      "text/plain": [
       "str"
      ]
     },
     "execution_count": 306,
     "metadata": {},
     "output_type": "execute_result"
    }
   ],
   "source": [
    "type(text)"
   ]
  }
 ],
 "metadata": {
  "kernelspec": {
   "display_name": "Python 2",
   "language": "python",
   "name": "python2"
  },
  "language_info": {
   "codemirror_mode": {
    "name": "ipython",
    "version": 2
   },
   "file_extension": ".py",
   "mimetype": "text/x-python",
   "name": "python",
   "nbconvert_exporter": "python",
   "pygments_lexer": "ipython2",
   "version": "2.7.10"
  }
 },
 "nbformat": 4,
 "nbformat_minor": 0
}
